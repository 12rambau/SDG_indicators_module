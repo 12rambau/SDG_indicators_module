{
 "cells": [
  {
   "cell_type": "code",
   "execution_count": 6,
   "metadata": {},
   "outputs": [
    {
     "data": {
      "text/plain": [
       "{1: (255, 82, 82, 255), 2: (33, 150, 243, 255), 3: (76, 175, 80, 255)}"
      ]
     },
     "execution_count": 6,
     "metadata": {},
     "output_type": "execute_result"
    }
   ],
   "source": [
    "from component import parameter as pm \n",
    "from matplotlib.colors import to_rgba\n",
    "    \n",
    "# create a colormap\n",
    "colormap = {}\n",
    "for i, color in enumerate(pm.legend.values()):\n",
    "    color = tuple(int(c*255) for c in to_rgba(color))\n",
    "    colormap[i+1] = color\n",
    "    \n",
    "colormap"
   ]
  },
  {
   "cell_type": "code",
   "execution_count": null,
   "metadata": {},
   "outputs": [],
   "source": []
  }
 ],
 "metadata": {
  "kernelspec": {
   "display_name": "Python 3",
   "language": "python",
   "name": "python3"
  },
  "language_info": {
   "codemirror_mode": {
    "name": "ipython",
    "version": 3
   },
   "file_extension": ".py",
   "mimetype": "text/x-python",
   "name": "python",
   "nbconvert_exporter": "python",
   "pygments_lexer": "ipython3",
   "version": "3.6.9"
  }
 },
 "nbformat": 4,
 "nbformat_minor": 4
}
