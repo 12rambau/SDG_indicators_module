{
 "cells": [
  {
   "cell_type": "code",
   "execution_count": null,
   "id": "5763ecd5-c851-4198-be91-8f12be3298da",
   "metadata": {},
   "outputs": [],
   "source": [
    "from component.widget import *\n",
    "\n",
    "SelectLC()"
   ]
  },
  {
   "cell_type": "code",
   "execution_count": null,
   "id": "be4e6265-f819-43b2-a6df-535e890589ab",
   "metadata": {},
   "outputs": [],
   "source": []
  }
 ],
 "metadata": {
  "kernelspec": {
   "display_name": "Python 3",
   "language": "python",
   "name": "python3"
  },
  "language_info": {
   "codemirror_mode": {
    "name": "ipython",
    "version": 3
   },
   "file_extension": ".py",
   "mimetype": "text/x-python",
   "name": "python",
   "nbconvert_exporter": "python",
   "pygments_lexer": "ipython3",
   "version": "3.8.10"
  }
 },
 "nbformat": 4,
 "nbformat_minor": 5
}
