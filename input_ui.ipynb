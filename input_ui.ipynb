{
 "cells": [
  {
   "cell_type": "code",
   "execution_count": null,
   "id": "5567fa74-62da-407c-9a45-88b669f26f7f",
   "metadata": {},
   "outputs": [],
   "source": [
    "from component import tile\n",
    "from component import model"
   ]
  },
  {
   "cell_type": "code",
   "execution_count": null,
   "id": "dd126bf0-13a4-402e-8740-d5a2f3c43dba",
   "metadata": {},
   "outputs": [],
   "source": [
    "# create an Io\n",
    "# sdg_model = model.IndicatorModel()"
   ]
  },
  {
   "cell_type": "code",
   "execution_count": null,
   "id": "db331f52-daf0-4d11-a8ee-2e8cfd1ad072",
   "metadata": {},
   "outputs": [],
   "source": [
    "input_tile = tile.InputTile(aoi_tile.view.model, sdg_model, results_tile, zonal_tile)"
   ]
  },
  {
   "cell_type": "code",
   "execution_count": null,
   "id": "f859f62d-0537-4f84-888e-b6caa1c2469a",
   "metadata": {},
   "outputs": [],
   "source": [
    "input_tile"
   ]
  }
 ],
 "metadata": {
  "kernelspec": {
   "display_name": "Python 3",
   "language": "python",
   "name": "python3"
  },
  "language_info": {
   "codemirror_mode": {
    "name": "ipython",
    "version": 3
   },
   "file_extension": ".py",
   "mimetype": "text/x-python",
   "name": "python",
   "nbconvert_exporter": "python",
   "pygments_lexer": "ipython3",
   "version": "3.8.10"
  }
 },
 "nbformat": 4,
 "nbformat_minor": 5
}
