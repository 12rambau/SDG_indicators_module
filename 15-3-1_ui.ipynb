{
 "cells": [
  {
   "cell_type": "code",
   "execution_count": 1,
   "metadata": {},
   "outputs": [
    {
     "data": {
      "application/vnd.jupyter.widget-view+json": {
       "model_id": "d6a427abb9d545e2ba4993b15e198f24",
       "version_major": 2,
       "version_minor": 0
      },
      "text/plain": [
       "HTML(value='\\n<style>\\n.leaflet-pane {\\n    z-index : 2 !important;\\n}\\n.leaflet-top, .leaflet-bottom {\\n    z…"
      ]
     },
     "metadata": {},
     "output_type": "display_data"
    },
    {
     "data": {
      "application/vnd.jupyter.widget-view+json": {
       "model_id": "b518eb9219e24890af3e465500ebf890",
       "version_major": 2,
       "version_minor": 0
      },
      "text/plain": [
       "ResizeTrigger()"
      ]
     },
     "metadata": {},
     "output_type": "display_data"
    }
   ],
   "source": [
    "from sepal_ui import aoi\n",
    "from sepal_ui import sepalwidgets as sw\n",
    "\n",
    "from component.tile import *\n",
    "from component.io import *"
   ]
  },
  {
   "cell_type": "code",
   "execution_count": 2,
   "metadata": {},
   "outputs": [],
   "source": [
    "# fake for debug, comment before commit\n",
    "#sdg_aoi_io = aoi.Aoi_io(default_asset='users/amitghosh/plantationInOutCampFAOv1')\n",
    "sdg_aoi_io = aoi.Aoi_io(default_asset='users/bornToBeAlive/Corse')"
   ]
  },
  {
   "cell_type": "code",
   "execution_count": 3,
   "metadata": {},
   "outputs": [],
   "source": [
    "# create an Io \n",
    "sdg_15_3_1_io = Io_15_3_1()"
   ]
  },
  {
   "cell_type": "code",
   "execution_count": 4,
   "metadata": {},
   "outputs": [],
   "source": [
    "# create the result tile \n",
    "sdg_15_3_1_results = Result_15_3_1(sdg_aoi_io, sdg_15_3_1_io)"
   ]
  },
  {
   "cell_type": "code",
   "execution_count": 5,
   "metadata": {},
   "outputs": [],
   "source": [
    "sdg_15_3_1_tile = Tile_15_3_1(sdg_aoi_io, sdg_15_3_1_io, sdg_15_3_1_results)"
   ]
  },
  {
   "cell_type": "code",
   "execution_count": 6,
   "metadata": {
    "scrolled": false
   },
   "outputs": [
    {
     "data": {
      "application/vnd.jupyter.widget-view+json": {
       "model_id": "32d11f5b448f49a0af49a4e2a8700b50",
       "version_major": 2,
       "version_minor": 0
      },
      "text/plain": [
       "Tile_15_3_1(align_center=True, children=[Card(children=[Html(children=['15.3.1 Proportion of degraded land ove…"
      ]
     },
     "metadata": {},
     "output_type": "display_data"
    }
   ],
   "source": [
    "sdg_15_3_1_tile"
   ]
  },
  {
   "cell_type": "code",
   "execution_count": 7,
   "metadata": {},
   "outputs": [
    {
     "data": {
      "application/vnd.jupyter.widget-view+json": {
       "model_id": "90b069297a814b9d9e6aeb670c6d0e60",
       "version_major": 2,
       "version_minor": 0
      },
      "text/plain": [
       "Result_15_3_1(align_center=True, children=[Card(children=[Html(children=['Results'], tag='h2'), Flex(children=…"
      ]
     },
     "metadata": {},
     "output_type": "display_data"
    }
   ],
   "source": [
    "sdg_15_3_1_results"
   ]
  },
  {
   "cell_type": "code",
   "execution_count": 8,
   "metadata": {},
   "outputs": [
    {
     "data": {
      "text/plain": [
       "{'start': None,\n",
       " 'target_start': None,\n",
       " 'end': None,\n",
       " 'sensors': None,\n",
       " 'trajectory': None,\n",
       " 'transition_matrix': [[0, -1, -1, -1, -1, -1, 0],\n",
       "  [1, 0, 1, -1, -1, -1, 0],\n",
       "  [1, -1, 0, -1, -1, -1, 0],\n",
       "  [-1, -1, -1, 0, -1, -1, 0],\n",
       "  [1, 1, 1, 1, 0, 1, 0],\n",
       "  [1, 1, 1, 1, -1, 0, 0],\n",
       "  [0, 0, 0, 0, 0, 0, 0]],\n",
       " 'conversion_coef': None,\n",
       " 'land_cover': None,\n",
       " 'soc': None,\n",
       " 'productivity': None,\n",
       " 'indicator_15_3_1': None}"
      ]
     },
     "execution_count": 8,
     "metadata": {},
     "output_type": "execute_result"
    }
   ],
   "source": [
    "sdg_15_3_1_io.__dict__"
   ]
  },
  {
   "cell_type": "code",
   "execution_count": null,
   "metadata": {},
   "outputs": [],
   "source": []
  }
 ],
 "metadata": {
  "kernelspec": {
   "display_name": "Python 3",
   "language": "python",
   "name": "python3"
  },
  "language_info": {
   "codemirror_mode": {
    "name": "ipython",
    "version": 3
   },
   "file_extension": ".py",
   "mimetype": "text/x-python",
   "name": "python",
   "nbconvert_exporter": "python",
   "pygments_lexer": "ipython3",
   "version": "3.6.9"
  }
 },
 "nbformat": 4,
 "nbformat_minor": 4
}
