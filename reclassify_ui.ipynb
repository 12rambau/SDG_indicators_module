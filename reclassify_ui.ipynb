{
 "cells": [
  {
   "cell_type": "code",
   "execution_count": null,
   "id": "55f39993-dfc0-4402-80a0-0e9cadad9369",
   "metadata": {},
   "outputs": [],
   "source": [
    "from component import tile"
   ]
  },
  {
   "cell_type": "code",
   "execution_count": null,
   "id": "bc518632-0e23-45ff-aec4-621b6b2a500c",
   "metadata": {},
   "outputs": [],
   "source": [
    "reclassify_tile = tile.ReclassifyTile()"
   ]
  },
  {
   "cell_type": "code",
   "execution_count": null,
   "id": "418f309a-3901-4055-9aaa-cdba9f6d132e",
   "metadata": {},
   "outputs": [],
   "source": [
    "reclassify_tile"
   ]
  },
  {
   "cell_type": "code",
   "execution_count": null,
   "id": "533d5132-1559-40a6-a467-6913e27b7b8a",
   "metadata": {},
   "outputs": [],
   "source": []
  }
 ],
 "metadata": {
  "kernelspec": {
   "display_name": "Python 3",
   "language": "python",
   "name": "python3"
  },
  "language_info": {
   "codemirror_mode": {
    "name": "ipython",
    "version": 3
   },
   "file_extension": ".py",
   "mimetype": "text/x-python",
   "name": "python",
   "nbconvert_exporter": "python",
   "pygments_lexer": "ipython3",
   "version": "3.8.10"
  }
 },
 "nbformat": 4,
 "nbformat_minor": 5
}
