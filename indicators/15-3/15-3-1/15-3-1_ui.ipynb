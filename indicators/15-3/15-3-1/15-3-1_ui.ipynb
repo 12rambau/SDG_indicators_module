{
 "cells": [
  {
   "cell_type": "code",
   "execution_count": 1,
   "metadata": {},
   "outputs": [
    {
     "data": {
      "application/vnd.jupyter.widget-view+json": {
       "model_id": "efead880d8904dc391c08bcddbf86bdd",
       "version_major": 2,
       "version_minor": 0
      },
      "text/plain": [
       "HTML(value='\\n<style>\\n.leaflet-pane {\\n    z-index : 2 !important;\\n}\\n.leaflet-top, .leaflet-bottom {\\n    z…"
      ]
     },
     "metadata": {},
     "output_type": "display_data"
    },
    {
     "data": {
      "application/vnd.jupyter.widget-view+json": {
       "model_id": "c03ff1f6e21347e4bd4190c5664d51e2",
       "version_major": 2,
       "version_minor": 0
      },
      "text/plain": [
       "ResizeTrigger()"
      ]
     },
     "metadata": {},
     "output_type": "display_data"
    }
   ],
   "source": [
    "from sepal_ui import aoi\n",
    "from sepal_ui import sepalwidgets as sw\n",
    "\n",
    "from widgets.tile_15_3_1 import *"
   ]
  },
  {
   "cell_type": "code",
   "execution_count": 2,
   "metadata": {},
   "outputs": [],
   "source": [
    "# fake for debug \n",
    "aoi_io = aoi.Aoi_io(default_asset='users/amitghosh/plantationInOutCampFAOv1')"
   ]
  },
  {
   "cell_type": "code",
   "execution_count": 3,
   "metadata": {},
   "outputs": [],
   "source": [
    "# create the result tile \n",
    "sdg_15_3_1_results = Result_15_3_1(aoi_io)"
   ]
  },
  {
   "cell_type": "code",
   "execution_count": 4,
   "metadata": {
    "scrolled": false
   },
   "outputs": [
    {
     "data": {
      "application/vnd.jupyter.widget-view+json": {
       "model_id": "a2546311831d4065a3c6fa82bc91736e",
       "version_major": 2,
       "version_minor": 0
      },
      "text/plain": [
       "Tile_15_3_1(align_center=True, children=[Card(children=[Html(children=['15.3.1 Proportion of degraded land ove…"
      ]
     },
     "metadata": {},
     "output_type": "display_data"
    }
   ],
   "source": [
    "sdg_15_3_1_tile = Tile_15_3_1(aoi_io, sdg_15_3_1_results)\n",
    "\n",
    "sdg_15_3_1_tile"
   ]
  },
  {
   "cell_type": "code",
   "execution_count": 5,
   "metadata": {},
   "outputs": [
    {
     "data": {
      "application/vnd.jupyter.widget-view+json": {
       "model_id": "28d63d62faf54282953b9481cf58d9f6",
       "version_major": 2,
       "version_minor": 0
      },
      "text/plain": [
       "Result_15_3_1(align_center=True, children=[Card(children=[Html(children=['Results'], tag='h2'), Flex(children=…"
      ]
     },
     "metadata": {},
     "output_type": "display_data"
    }
   ],
   "source": [
    "sdg_15_3_1_results"
   ]
  },
  {
   "cell_type": "code",
   "execution_count": 6,
   "metadata": {},
   "outputs": [
    {
     "data": {
      "text/plain": [
       "{'start': None,\n",
       " 'target_start': None,\n",
       " 'end': None,\n",
       " 'sensors': None,\n",
       " 'trajectory': None,\n",
       " 'transition_matrix': [[0, -1, -1, -1, -1, -1, 0],\n",
       "  [1, 0, 1, -1, -1, -1, 0],\n",
       "  [1, -1, 0, -1, -1, -1, 0],\n",
       "  [-1, -1, -1, 0, -1, -1, 0],\n",
       "  [1, 1, 1, 1, 0, 1, 0],\n",
       "  [1, 1, 1, 1, -1, 0, 0],\n",
       "  [0, 0, 0, 0, 0, 0, 0]],\n",
       " 'conversion_coef': None}"
      ]
     },
     "execution_count": 6,
     "metadata": {},
     "output_type": "execute_result"
    }
   ],
   "source": [
    "sdg_15_3_1_tile.io.__dict__"
   ]
  },
  {
   "cell_type": "code",
   "execution_count": null,
   "metadata": {},
   "outputs": [],
   "source": []
  }
 ],
 "metadata": {
  "kernelspec": {
   "display_name": "Python 3",
   "language": "python",
   "name": "python3"
  },
  "language_info": {
   "codemirror_mode": {
    "name": "ipython",
    "version": 3
   },
   "file_extension": ".py",
   "mimetype": "text/x-python",
   "name": "python",
   "nbconvert_exporter": "python",
   "pygments_lexer": "ipython3",
   "version": "3.6.9"
  }
 },
 "nbformat": 4,
 "nbformat_minor": 4
}
