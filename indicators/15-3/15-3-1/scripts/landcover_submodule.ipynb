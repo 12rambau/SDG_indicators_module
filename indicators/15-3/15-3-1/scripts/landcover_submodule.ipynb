{
 "cells": [
  {
   "cell_type": "code",
   "execution_count": null,
   "metadata": {
    "id": "1Wrch5Ja-IRZ"
   },
   "outputs": [],
   "source": [
    "!pip install geemap"
   ]
  },
  {
   "cell_type": "code",
   "execution_count": null,
   "metadata": {
    "id": "-Xzez81d-alR"
   },
   "outputs": [],
   "source": [
    "import ee\n",
    "try:\n",
    "    ee.Initialize()\n",
    "except:\n",
    "    ee.Authenticate()\n",
    "    ee.Initialize()"
   ]
  },
  {
   "cell_type": "code",
   "execution_count": null,
   "metadata": {
    "id": "ZZy-JIUY9wHF"
   },
   "outputs": [],
   "source": [
    "def land_cover(year_baseline, year_target, trans_matrix,\n",
    "               remap_matrix):\n",
    "    \"\"\"\n",
    "    Calculate land cover indicator.\n",
    "    \"\"\"\n",
    "\n",
    "    ## land cover\n",
    "    lc = ee.Image(\"users/geflanddegradation/toolbox_datasets/lcov_esacc_1992_2018\")\n",
    "    lc = lc.where(lc.eq(9999), -32768)\n",
    "    lc = lc.updateMask(lc.neq(-32768))\n",
    "\n",
    "    # Remap LC according to input matrix\n",
    "    lc_remapped = lc.select('y{}'.format(year_baseline)).remap(remap_matrix[0], remap_matrix[1])\n",
    "    for year in range(year_baseline + 1, year_target + 1):\n",
    "        lc_remapped = lc_remapped.addBands(lc.select('y{}'.format(year)).remap(remap_matrix[0], remap_matrix[1]))\n",
    "\n",
    "    ## target land cover map reclassified to IPCC 6 classes\n",
    "    lc_bl = lc_remapped.select(0)\n",
    "\n",
    "    ## baseline land cover map reclassified to IPCC 6 classes\n",
    "    lc_tg = lc_remapped.select(len(lc_remapped.getInfo()['bands']) - 1)\n",
    "\n",
    "    ## compute transition map (first digit for baseline land cover, and second digit for target year land cover)\n",
    "    lc_tr = lc_bl.multiply(10).add(lc_tg)\n",
    "\n",
    "    ## definition of land cover transitions as degradation (-1), improvement (1), or no relevant change (0)\n",
    "    lc_dg = lc_tr.remap([11, 12, 13, 14, 15, 16, 17,\n",
    "                         21, 22, 23, 24, 25, 26, 27,\n",
    "                         31, 32, 33, 34, 35, 36, 37,\n",
    "                         41, 42, 43, 44, 45, 46, 47,\n",
    "                         51, 52, 53, 54, 55, 56, 57,\n",
    "                         61, 62, 63, 64, 65, 66, 67,\n",
    "                         71, 72, 73, 74, 75, 76, 77],\n",
    "                        trans_matrix)\n",
    "\n",
    "    ## Remap persistence classes so they are sequential. This\n",
    "    ## makes it easier to assign a clear color ramp in QGIS.\n",
    "    lc_tr = lc_tr.remap([11, 12, 13, 14, 15, 16, 17,\n",
    "                         21, 22, 23, 24, 25, 26, 27,\n",
    "                         31, 32, 33, 34, 35, 36, 37,\n",
    "                         41, 42, 43, 44, 45, 46, 47,\n",
    "                         51, 52, 53, 54, 55, 56, 57,\n",
    "                         61, 62, 63, 64, 65, 66, 67,\n",
    "                         71, 72, 73, 74, 75, 76, 77],\n",
    "                        [1, 12, 13, 14, 15, 16, 17,\n",
    "                         21, 2, 23, 24, 25, 26, 27,\n",
    "                         31, 32, 3, 34, 35, 36, 37,\n",
    "                         41, 42, 43, 4, 45, 46, 47,\n",
    "                         51, 52, 53, 54, 5, 56, 57,\n",
    "                         61, 62, 63, 64, 65, 6, 67,\n",
    "                         71, 72, 73, 74, 75, 76, 7])\n",
    "\n",
    "    out = ee.Image(lc_dg.addBands(lc.select('y{}'.format(year_baseline))).addBands(lc.select('y{}'.format(year_target))).addBands(lc_tr))\n",
    "\n",
    "    # Return the full land cover timeseries so it is available for reporting\n",
    "    out.addBands(lc_remapped)\n",
    "\n",
    "    out.image = out.image.unmask(-32768).int16()\n",
    "\n",
    "    return out"
   ]
  },
  {
   "cell_type": "code",
   "execution_count": null,
   "metadata": {
    "id": "naLZJP6o-GLO"
   },
   "outputs": [],
   "source": []
  }
 ],
 "metadata": {
  "colab": {
   "name": "landcover submodule",
   "provenance": []
  },
  "kernelspec": {
   "display_name": "Python 3",
   "language": "python",
   "name": "python3"
  },
  "language_info": {
   "codemirror_mode": {
    "name": "ipython",
    "version": 3
   },
   "file_extension": ".py",
   "mimetype": "text/x-python",
   "name": "python",
   "nbconvert_exporter": "python",
   "pygments_lexer": "ipython3",
   "version": "3.6.9"
  }
 },
 "nbformat": 4,
 "nbformat_minor": 4
}
