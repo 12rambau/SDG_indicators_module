{
 "cells": [
  {
   "cell_type": "code",
   "execution_count": null,
   "id": "2a9df872-1ec3-43a4-b143-4e6e0de9be1b",
   "metadata": {},
   "outputs": [],
   "source": [
    "from component import tile\n",
    "from component import model"
   ]
  },
  {
   "cell_type": "code",
   "execution_count": null,
   "id": "19d8c108-f933-43d8-9107-a48d8b1255a6",
   "metadata": {},
   "outputs": [],
   "source": [
    "# create Model\n",
    "sdg_model = model.IndicatorModel()"
   ]
  },
  {
   "cell_type": "code",
   "execution_count": null,
   "id": "4a27cde4-d6da-4529-9f0d-0a711d7f43af",
   "metadata": {},
   "outputs": [],
   "source": [
    "# create the result tile\n",
    "results_tile = tile.ResultTile(aoi_tile.view.model, sdg_model)"
   ]
  },
  {
   "cell_type": "code",
   "execution_count": null,
   "id": "22eb243f-0f97-4e53-8f5e-0bbae86dd6a9",
   "metadata": {},
   "outputs": [],
   "source": [
    "zonal_tile = tile.ZonalTile(aoi_tile.view.model, sdg_model)"
   ]
  }
 ],
 "metadata": {
  "kernelspec": {
   "display_name": "Python 3",
   "language": "python",
   "name": "python3"
  },
  "language_info": {
   "codemirror_mode": {
    "name": "ipython",
    "version": 3
   },
   "file_extension": ".py",
   "mimetype": "text/x-python",
   "name": "python",
   "nbconvert_exporter": "python",
   "pygments_lexer": "ipython3",
   "version": "3.8.10"
  }
 },
 "nbformat": 4,
 "nbformat_minor": 5
}
