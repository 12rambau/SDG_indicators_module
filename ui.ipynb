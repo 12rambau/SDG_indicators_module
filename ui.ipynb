{
 "cells": [
  {
   "cell_type": "code",
   "execution_count": null,
   "metadata": {},
   "outputs": [],
   "source": [
    "from sepal_ui import sepalwidgets as sw"
   ]
  },
  {
   "cell_type": "code",
   "execution_count": null,
   "metadata": {},
   "outputs": [],
   "source": [
    "sdg_appBar = sw.AppBar(\"SDG indicator module\")"
   ]
  },
  {
   "cell_type": "code",
   "execution_count": null,
   "metadata": {},
   "outputs": [],
   "source": [
    "%run \"aoi_selector_ui.ipynb\"\n",
    "%run \"15-3-1_ui.ipynb\"\n",
    "%run \"about_ui.ipynb\"\n",
    "\n",
    "sdg_content = [sdg_aoi, sdg_15_3_1_tile, sdg_15_3_1_results, sdg_about, sdg_disclaimer]"
   ]
  },
  {
   "cell_type": "code",
   "execution_count": null,
   "metadata": {},
   "outputs": [],
   "source": [
    "item_aoi = sw.DrawerItem(\"AOI selector\", 'mdi-map-marker-check', card=\"aoi_widget\").display_tile(sdg_content)\n",
    "item_15_3_1 = sw.DrawerItem(\"Indicator 15.3.1\", 'mdi-cogs', card=\"15_3_1_widgets\").display_tile(sdg_content)\n",
    "item_about = sw.DrawerItem(\"About\", 'mdi-help-circle', card=\"about_widget\").display_tile(sdg_content)\n",
    "\n",
    "code_link = 'https://github.com/12rambau/sdg_indicators_module'\n",
    "wiki_link = 'https://github.com/12rambau/sdg_indicators_module/blob/master/README.md'\n",
    "issue_link = 'https://github.com/12rambau/sdg_indicators_module/issues/new'\n",
    "\n",
    "items = [item_aoi, item_15_3_1, item_about]\n",
    "\n",
    "sdg_drawer = sw.NavDrawer(\n",
    "    items = items,\n",
    "    code  = code_link,\n",
    "    wiki  = wiki_link,\n",
    "    issue = issue_link\n",
    ").display_drawer(sdg_appBar.toggle_button)"
   ]
  },
  {
   "cell_type": "code",
   "execution_count": null,
   "metadata": {},
   "outputs": [],
   "source": [
    "sdg_app = sw.App(\n",
    "    tiles = sdg_content,\n",
    "    appBar = sdg_appBar,\n",
    "    navDrawer = sdg_drawer\n",
    ").show_tile('aoi_widget')"
   ]
  },
  {
   "cell_type": "code",
   "execution_count": null,
   "metadata": {},
   "outputs": [],
   "source": [
    "sdg_app"
   ]
  },
  {
   "cell_type": "code",
   "execution_count": null,
   "metadata": {},
   "outputs": [],
   "source": []
  }
 ],
 "metadata": {
  "kernelspec": {
   "display_name": "Python 3",
   "language": "python",
   "name": "python3"
  },
  "language_info": {
   "codemirror_mode": {
    "name": "ipython",
    "version": 3
   },
   "file_extension": ".py",
   "mimetype": "text/x-python",
   "name": "python",
   "nbconvert_exporter": "python",
   "pygments_lexer": "ipython3",
   "version": "3.6.9"
  }
 },
 "nbformat": 4,
 "nbformat_minor": 4
}
