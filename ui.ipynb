{
 "cells": [
  {
   "cell_type": "code",
   "execution_count": null,
   "metadata": {},
   "outputs": [],
   "source": [
    "from sepal_ui.scripts.utils import init_ee\n",
    "init_ee()\n",
    "from sepal_ui import sepalwidgets as sw\n",
    "from sepal_ui import aoi\n",
    "\n",
    "from component import tile\n",
    "from component import model\n",
    "from component.message import cm"
   ]
  },
  {
   "cell_type": "code",
   "execution_count": null,
   "metadata": {},
   "outputs": [],
   "source": [
    "sdg_appBar = sw.AppBar(cm.app.title)\n",
    "about_tile = sw.TileAbout(\"utils/ABOUT.md\")\n",
    "disclaimer_tile = sw.TileDisclaimer()"
   ]
  },
  {
   "cell_type": "code",
   "execution_count": null,
   "metadata": {},
   "outputs": [],
   "source": [
    "sdg_model = model.IndicatorModel()"
   ]
  },
  {
   "cell_type": "code",
   "execution_count": null,
   "metadata": {},
   "outputs": [],
   "source": [
    "aoi_tile = aoi.AoiTile(methods=[\"-POINTS\"])"
   ]
  },
  {
   "cell_type": "code",
   "execution_count": null,
   "metadata": {},
   "outputs": [],
   "source": [
    "zonal_tile = tile.ZonalTile(aoi_tile.view.model, sdg_model)"
   ]
  },
  {
   "cell_type": "code",
   "execution_count": null,
   "metadata": {},
   "outputs": [],
   "source": [
    "results_tile = tile.ResultTile(aoi_tile.view.model, sdg_model)"
   ]
  },
  {
   "cell_type": "code",
   "execution_count": null,
   "metadata": {},
   "outputs": [],
   "source": [
    "input_tile = tile.InputTile(aoi_tile.view.model, sdg_model, results_tile, zonal_tile)"
   ]
  },
  {
   "cell_type": "code",
   "execution_count": null,
   "metadata": {},
   "outputs": [],
   "source": [
    "reclassify_tile = tile.ReclassifyTile(aoi_model=aoi_tile.view.model)"
   ]
  },
  {
   "cell_type": "code",
   "execution_count": null,
   "metadata": {},
   "outputs": [],
   "source": [
    "sdg_content = [\n",
    "    aoi_tile,\n",
    "    input_tile,\n",
    "    results_tile,\n",
    "    zonal_tile,\n",
    "    reclassify_tile,\n",
    "    about_tile,\n",
    "    disclaimer_tile,\n",
    "]"
   ]
  },
  {
   "cell_type": "code",
   "execution_count": null,
   "metadata": {},
   "outputs": [],
   "source": [
    "items = [\n",
    "    sw.DrawerItem(cm.app.aoi_drawer, \"mdi-map-marker-check\", card=\"aoi_tile\"),\n",
    "    sw.DrawerItem(cm.app.input_drawer, \"mdi-cogs\", card=\"input_tile\"),\n",
    "    sw.DrawerItem(cm.app.result_drawer, \"mdi-chart-bar\", card=\"result_tile\"),\n",
    "    sw.DrawerItem(cm.app.reclassify_drawer, \"mdi-table\", card=\"reclassify_tile\"),\n",
    "    sw.DrawerItem(cm.app.about_drawer, \"mdi-help-circle\", card=\"about_tile\"),\n",
    "]\n",
    "\n",
    "code_link = \"https://github.com/12rambau/sdg_indicators_module\"\n",
    "wiki_link = \"https://docs.sepal.io/en/latest/modules/dwn/sdg_indicator.html\"\n",
    "issue_link = \"https://github.com/12rambau/sdg_indicators_module/issues/new\"\n",
    "\n",
    "sdg_drawer = sw.NavDrawer(items=items, code=code_link, wiki=wiki_link, issue=issue_link)"
   ]
  },
  {
   "cell_type": "code",
   "execution_count": null,
   "metadata": {},
   "outputs": [],
   "source": [
    "sdg_app = sw.App(tiles=sdg_content, appBar=sdg_appBar, navDrawer=sdg_drawer).show_tile(\n",
    "    \"aoi_tile\"\n",
    ")"
   ]
  },
  {
   "cell_type": "code",
   "execution_count": null,
   "metadata": {},
   "outputs": [],
   "source": [
    "sdg_app"
   ]
  }
 ],
 "metadata": {
  "kernelspec": {
   "display_name": " (venv) sdg_15.3.1",
   "language": "python",
   "name": "venv-sdg_15.3.1"
  },
  "language_info": {
   "codemirror_mode": {
    "name": "ipython",
    "version": 3
   },
   "file_extension": ".py",
   "mimetype": "text/x-python",
   "name": "python",
   "nbconvert_exporter": "python",
   "pygments_lexer": "ipython3",
   "version": "3.10.12"
  },
  "voila": {
   "theme": "dark"
  }
 },
 "nbformat": 4,
 "nbformat_minor": 4
}