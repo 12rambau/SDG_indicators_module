{
 "cells": [
  {
   "cell_type": "code",
   "execution_count": null,
   "metadata": {},
   "outputs": [],
   "source": [
    "from sepal_ui import sepalwidgets as sw\n",
    "from component.message import ms"
   ]
  },
  {
   "cell_type": "code",
   "execution_count": null,
   "metadata": {},
   "outputs": [],
   "source": [
    "sdg_appBar = sw.AppBar(ms.app.title)"
   ]
  },
  {
   "cell_type": "code",
   "execution_count": null,
   "metadata": {},
   "outputs": [],
   "source": [
    "%run \"aoi_selector_ui.ipynb\"\n",
    "%run \"result_ui.ipynb\"\n",
    "%run \"input_ui.ipynb\"\n",
    "%run \"about_ui.ipynb\"\n",
    "%run \"reclassify_ui.ipynb\"\n",
    "\n",
    "sdg_content = [\n",
    "    aoi_tile,\n",
    "    input_tile,\n",
    "    results_tile,\n",
    "    zonal_tile,\n",
    "    reclassify_tile,\n",
    "    about_tile,\n",
    "    disclaimer_tile,\n",
    "]"
   ]
  },
  {
   "cell_type": "code",
   "execution_count": null,
   "metadata": {},
   "outputs": [],
   "source": [
    "items = [\n",
    "    sw.DrawerItem(ms.app.aoi_drawer, \"mdi-map-marker-check\", card=\"aoi_tile\"),\n",
    "    sw.DrawerItem(ms.app.input_drawer, \"mdi-cogs\", card=\"input_tile\"),\n",
    "    sw.DrawerItem(ms.app.result_drawer, \"mdi-chart-bar\", card=\"result_tile\"),\n",
    "    sw.DrawerItem(ms.app.reclassify_drawer, \"mdi-table\", card=\"reclassify_tile\"),\n",
    "    sw.DrawerItem(ms.app.about_drawer, \"mdi-help-circle\", card=\"about_tile\"),\n",
    "]\n",
    "\n",
    "code_link = \"https://github.com/12rambau/sdg_indicators_module\"\n",
    "wiki_link = \"https://docs.sepal.io/en/latest/modules/dwn/sdg_indicator.html\"\n",
    "issue_link = \"https://github.com/12rambau/sdg_indicators_module/issues/new\"\n",
    "\n",
    "sdg_drawer = sw.NavDrawer(items=items, code=code_link, wiki=wiki_link, issue=issue_link)"
   ]
  },
  {
   "cell_type": "code",
   "execution_count": null,
   "metadata": {},
   "outputs": [],
   "source": [
    "sdg_app = sw.App(tiles=sdg_content, appBar=sdg_appBar, navDrawer=sdg_drawer).show_tile(\n",
    "    \"aoi_tile\"\n",
    ")"
   ]
  },
  {
   "cell_type": "code",
   "execution_count": null,
   "metadata": {},
   "outputs": [],
   "source": [
    "sdg_app"
   ]
  },
  {
   "cell_type": "code",
   "execution_count": null,
   "metadata": {},
   "outputs": [],
   "source": []
  },
  {
   "cell_type": "code",
   "execution_count": null,
   "metadata": {},
   "outputs": [],
   "source": []
  }
 ],
 "metadata": {
  "kernelspec": {
   "display_name": "Python 3",
   "language": "python",
   "name": "python3"
  },
  "language_info": {
   "codemirror_mode": {
    "name": "ipython",
    "version": 3
   },
   "file_extension": ".py",
   "mimetype": "text/x-python",
   "name": "python",
   "nbconvert_exporter": "python",
   "pygments_lexer": "ipython3",
   "version": "3.8.10"
  },
  "voila": {
   "theme": "dark"
  }
 },
 "nbformat": 4,
 "nbformat_minor": 4
}
