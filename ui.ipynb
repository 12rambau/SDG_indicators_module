{
 "cells": [
  {
   "cell_type": "code",
   "execution_count": null,
   "metadata": {},
   "outputs": [],
   "source": [
    "from sepal_ui import sepalwidgets as sw\n",
    "from component.message import ms"
   ]
  },
  {
   "cell_type": "code",
   "execution_count": null,
   "metadata": {},
   "outputs": [],
   "source": [
    "sdg_appBar = sw.AppBar(ms.app.title)"
   ]
  },
  {
   "cell_type": "code",
   "execution_count": null,
   "metadata": {},
   "outputs": [],
   "source": [
    "%run \"aoi_selector_ui.ipynb\"\n",
    "%run \"15-3-1_ui.ipynb\"\n",
    "%run \"about_ui.ipynb\"\n",
    "\n",
    "sdg_content = [\n",
    "    sdg_aoi,\n",
    "    sdg_15_3_1_tile,\n",
    "    sdg_15_3_1_results,\n",
    "    sdg_Zonal_Stats,\n",
    "    sdg_about,\n",
    "    sdg_disclaimer,\n",
    "]"
   ]
  },
  {
   "cell_type": "code",
   "execution_count": null,
   "metadata": {},
   "outputs": [],
   "source": [
    "items = [\n",
    "    sw.DrawerItem(ms.app.aoi_drawer, \"mdi-map-marker-check\", card=\"aoi_tile\"),\n",
    "    sw.DrawerItem(ms.app._15_3_1_drawer, \"mdi-cogs\", card=\"15_3_1_widgets\"),\n",
    "    sw.DrawerItem(ms.app.about_drawer, \"mdi-help-circle\", card=\"about_tile\"),\n",
    "]\n",
    "\n",
    "code_link = \"https://github.com/12rambau/sdg_indicators_module\"\n",
    "wiki_link = \"https://docs.sepal.io/en/latest/modules/dwn/sdg_indicator.html\"\n",
    "issue_link = \"https://github.com/12rambau/sdg_indicators_module/issues/new\"\n",
    "\n",
    "sdg_drawer = sw.NavDrawer(items=items, code=code_link, wiki=wiki_link, issue=issue_link)"
   ]
  },
  {
   "cell_type": "code",
   "execution_count": null,
   "metadata": {},
   "outputs": [],
   "source": [
    "sdg_app = sw.App(tiles=sdg_content, appBar=sdg_appBar, navDrawer=sdg_drawer).show_tile(\n",
    "    \"aoi_tile\"\n",
    ")"
   ]
  },
  {
   "cell_type": "code",
   "execution_count": null,
   "metadata": {},
   "outputs": [],
   "source": [
    "sdg_app"
   ]
  },
  {
   "cell_type": "code",
   "execution_count": null,
   "metadata": {},
   "outputs": [],
   "source": []
  },
  {
   "cell_type": "code",
   "execution_count": null,
   "metadata": {},
   "outputs": [],
   "source": []
  }
 ],
 "metadata": {
  "kernelspec": {
   "display_name": "Python 3",
   "language": "python",
   "name": "python3"
  },
  "language_info": {
   "codemirror_mode": {
    "name": "ipython",
    "version": 3
   },
   "file_extension": ".py",
   "mimetype": "text/x-python",
   "name": "python",
   "nbconvert_exporter": "python",
   "pygments_lexer": "ipython3",
   "version": "3.8.10"
  }
 },
 "nbformat": 4,
 "nbformat_minor": 4
}
